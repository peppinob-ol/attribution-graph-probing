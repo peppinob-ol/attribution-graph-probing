{
  "cells": [
    {
      "cell_type": "markdown",
      "metadata": {},
      "source": [
        "# 🔬 Visualizzazione Supernodes Personali\n",
        "\n",
        "Questo notebook ti permette di:\n",
        "1. Esplorare i tuoi supernodes da `final_anthropological_optimized.json`\n",
        "2. Visualizzare circuiti interattivi\n",
        "3. Simulare interventi\n",
        "\n",
        "**Requisiti**: Esegui prima `setup_venv.ps1` per installare le dipendenze\n"
      ]
    },
    {
      "cell_type": "code",
      "execution_count": null,
      "metadata": {},
      "outputs": [],
      "source": [
        "import json\n",
        "from collections import defaultdict\n",
        "from pathlib import Path\n",
        "\n",
        "from scripts.visualization.graph_visualization import (\n",
        "    create_graph_visualization,\n",
        "    Supernode,\n",
        "    InterventionGraph,\n",
        "    Feature\n",
        ")\n",
        "\n",
        "print(\"✅ Import completati!\")\n"
      ]
    }
  ],
  "metadata": {
    "language_info": {
      "name": "python"
    }
  },
  "nbformat": 4,
  "nbformat_minor": 2
}
